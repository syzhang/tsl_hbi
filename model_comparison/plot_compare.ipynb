{
 "cells": [
  {
   "cell_type": "markdown",
   "metadata": {},
   "source": [
    "### plot compare"
   ]
  },
  {
   "cell_type": "code",
   "execution_count": 1,
   "metadata": {},
   "outputs": [],
   "source": [
    "import os, sys\n",
    "import numpy as np\n",
    "import pandas as pd\n",
    "import matplotlib.pyplot as plt\n",
    "import seaborn as sns"
   ]
  },
  {
   "cell_type": "code",
   "execution_count": 330,
   "metadata": {},
   "outputs": [],
   "source": [
    "df = pd.read_csv('./local_output/fmri.csv')"
   ]
  },
  {
   "cell_type": "code",
   "execution_count": 336,
   "metadata": {},
   "outputs": [
    {
     "data": {
      "text/html": [
       "<div>\n",
       "<style scoped>\n",
       "    .dataframe tbody tr th:only-of-type {\n",
       "        vertical-align: middle;\n",
       "    }\n",
       "\n",
       "    .dataframe tbody tr th {\n",
       "        vertical-align: top;\n",
       "    }\n",
       "\n",
       "    .dataframe thead th {\n",
       "        text-align: right;\n",
       "    }\n",
       "</style>\n",
       "<table border=\"1\" class=\"dataframe\">\n",
       "  <thead>\n",
       "    <tr style=\"text-align: right;\">\n",
       "      <th></th>\n",
       "      <th>model name</th>\n",
       "      <th>model frequency</th>\n",
       "      <th>exceedance probability</th>\n",
       "      <th>protected exceedance probability</th>\n",
       "    </tr>\n",
       "  </thead>\n",
       "  <tbody>\n",
       "    <tr>\n",
       "      <th>0</th>\n",
       "      <td>IO fixed freq</td>\n",
       "      <td>0.004631</td>\n",
       "      <td>0.00000</td>\n",
       "      <td>0.000029</td>\n",
       "    </tr>\n",
       "    <tr>\n",
       "      <th>1</th>\n",
       "      <td>IO fixed trans</td>\n",
       "      <td>0.004631</td>\n",
       "      <td>0.00000</td>\n",
       "      <td>0.000029</td>\n",
       "    </tr>\n",
       "    <tr>\n",
       "      <th>2</th>\n",
       "      <td>IO jump freq</td>\n",
       "      <td>0.563353</td>\n",
       "      <td>0.92378</td>\n",
       "      <td>0.923647</td>\n",
       "    </tr>\n",
       "    <tr>\n",
       "      <th>3</th>\n",
       "      <td>IO jump trans</td>\n",
       "      <td>0.339934</td>\n",
       "      <td>0.07622</td>\n",
       "      <td>0.076236</td>\n",
       "    </tr>\n",
       "    <tr>\n",
       "      <th>4</th>\n",
       "      <td>random</td>\n",
       "      <td>0.048434</td>\n",
       "      <td>0.00000</td>\n",
       "      <td>0.000029</td>\n",
       "    </tr>\n",
       "    <tr>\n",
       "      <th>5</th>\n",
       "      <td>RL</td>\n",
       "      <td>0.039017</td>\n",
       "      <td>0.00000</td>\n",
       "      <td>0.000029</td>\n",
       "    </tr>\n",
       "  </tbody>\n",
       "</table>\n",
       "</div>"
      ],
      "text/plain": [
       "       model name  model frequency  exceedance probability  \\\n",
       "0   IO fixed freq         0.004631                 0.00000   \n",
       "1  IO fixed trans         0.004631                 0.00000   \n",
       "2    IO jump freq         0.563353                 0.92378   \n",
       "3   IO jump trans         0.339934                 0.07622   \n",
       "4          random         0.048434                 0.00000   \n",
       "5              RL         0.039017                 0.00000   \n",
       "\n",
       "   protected exceedance probability  \n",
       "0                          0.000029  \n",
       "1                          0.000029  \n",
       "2                          0.923647  \n",
       "3                          0.076236  \n",
       "4                          0.000029  \n",
       "5                          0.000029  "
      ]
     },
     "execution_count": 336,
     "metadata": {},
     "output_type": "execute_result"
    }
   ],
   "source": [
    "df"
   ]
  },
  {
   "cell_type": "code",
   "execution_count": 331,
   "metadata": {},
   "outputs": [],
   "source": [
    "df.columns = df.columns.str.replace('_', ' ')\n",
    "df.columns = df.columns.str.replace('prob', 'probability')\n",
    "df.replace('_', ' ', regex=True, inplace=True)\n",
    "df.replace('io', 'IO', regex=True, inplace=True)\n",
    "df.replace('rw', 'RL', regex=True, inplace=True)"
   ]
  },
  {
   "cell_type": "code",
   "execution_count": 332,
   "metadata": {},
   "outputs": [],
   "source": [
    "dfs = df.sort_values('model frequency', ascending=False)"
   ]
  },
  {
   "cell_type": "code",
   "execution_count": 333,
   "metadata": {},
   "outputs": [],
   "source": [
    "dfm = pd.melt(dfs, id_vars='model name', var_name='model evidence')"
   ]
  },
  {
   "cell_type": "code",
   "execution_count": 334,
   "metadata": {},
   "outputs": [
    {
     "data": {
      "image/png": "[encoded data removed]",
      "text/plain": [
       "<Figure size 360x252 with 1 Axes>"
      ]
     },
     "metadata": {
      "needs_background": "light"
     },
     "output_type": "display_data"
    }
   ],
   "source": [
    "f, ax = plt.subplots(figsize=(5,3.5))\n",
    "sns.barplot(data=dfm, x='model name', y='value', hue='model evidence', ax=ax)\n",
    "plt.xticks(rotation=90)\n",
    "plt.title('fMRI sessions model comparison')\n",
    "plt.ylim(0,1)\n",
    "plt.savefig('./figs/fmri_freq.png', bbox_inches='tight')"
   ]
  },
  {
   "cell_type": "code",
   "execution_count": 337,
   "metadata": {},
   "outputs": [],
   "source": [
    "df = pd.read_csv('./local_output/practice.csv')"
   ]
  },
  {
   "cell_type": "code",
   "execution_count": 338,
   "metadata": {},
   "outputs": [
    {
     "data": {
      "text/html": [
       "<div>\n",
       "<style scoped>\n",
       "    .dataframe tbody tr th:only-of-type {\n",
       "        vertical-align: middle;\n",
       "    }\n",
       "\n",
       "    .dataframe tbody tr th {\n",
       "        vertical-align: top;\n",
       "    }\n",
       "\n",
       "    .dataframe thead th {\n",
       "        text-align: right;\n",
       "    }\n",
       "</style>\n",
       "<table border=\"1\" class=\"dataframe\">\n",
       "  <thead>\n",
       "    <tr style=\"text-align: right;\">\n",
       "      <th></th>\n",
       "      <th>model_name</th>\n",
       "      <th>model_frequency</th>\n",
       "      <th>exceedance_prob</th>\n",
       "      <th>protected_exceedance_prob</th>\n",
       "    </tr>\n",
       "  </thead>\n",
       "  <tbody>\n",
       "    <tr>\n",
       "      <th>0</th>\n",
       "      <td>io_fixed_freq</td>\n",
       "      <td>0.004903</td>\n",
       "      <td>0.00000</td>\n",
       "      <td>0.000940</td>\n",
       "    </tr>\n",
       "    <tr>\n",
       "      <th>1</th>\n",
       "      <td>io_fixed_trans</td>\n",
       "      <td>0.004903</td>\n",
       "      <td>0.00000</td>\n",
       "      <td>0.000940</td>\n",
       "    </tr>\n",
       "    <tr>\n",
       "      <th>2</th>\n",
       "      <td>io_jump_freq</td>\n",
       "      <td>0.503897</td>\n",
       "      <td>0.97182</td>\n",
       "      <td>0.967281</td>\n",
       "    </tr>\n",
       "    <tr>\n",
       "      <th>3</th>\n",
       "      <td>io_jump_trans</td>\n",
       "      <td>0.154513</td>\n",
       "      <td>0.00389</td>\n",
       "      <td>0.004808</td>\n",
       "    </tr>\n",
       "    <tr>\n",
       "      <th>4</th>\n",
       "      <td>random</td>\n",
       "      <td>0.105289</td>\n",
       "      <td>0.00048</td>\n",
       "      <td>0.001417</td>\n",
       "    </tr>\n",
       "    <tr>\n",
       "      <th>5</th>\n",
       "      <td>rw</td>\n",
       "      <td>0.226495</td>\n",
       "      <td>0.02381</td>\n",
       "      <td>0.024615</td>\n",
       "    </tr>\n",
       "  </tbody>\n",
       "</table>\n",
       "</div>"
      ],
      "text/plain": [
       "       model_name  model_frequency  exceedance_prob  protected_exceedance_prob\n",
       "0   io_fixed_freq         0.004903          0.00000                   0.000940\n",
       "1  io_fixed_trans         0.004903          0.00000                   0.000940\n",
       "2    io_jump_freq         0.503897          0.97182                   0.967281\n",
       "3   io_jump_trans         0.154513          0.00389                   0.004808\n",
       "4          random         0.105289          0.00048                   0.001417\n",
       "5              rw         0.226495          0.02381                   0.024615"
      ]
     },
     "execution_count": 338,
     "metadata": {},
     "output_type": "execute_result"
    }
   ],
   "source": [
    "df"
   ]
  },
  {
   "cell_type": "code",
   "execution_count": 217,
   "metadata": {},
   "outputs": [],
   "source": [
    "df.columns = df.columns.str.replace('_', ' ')\n",
    "df.columns = df.columns.str.replace('prob', 'probability')\n",
    "df.replace('_', ' ', regex=True, inplace=True)\n",
    "df.replace('io', 'IO', regex=True, inplace=True)\n",
    "df.replace('rw', 'RL', regex=True, inplace=True)"
   ]
  },
  {
   "cell_type": "code",
   "execution_count": 218,
   "metadata": {},
   "outputs": [],
   "source": [
    "dfs = df.sort_values('model frequency', ascending=False)"
   ]
  },
  {
   "cell_type": "code",
   "execution_count": 219,
   "metadata": {},
   "outputs": [],
   "source": [
    "dfm = pd.melt(dfs, id_vars='model name', var_name='model evidence')"
   ]
  },
  {
   "cell_type": "code",
   "execution_count": 220,
   "metadata": {},
   "outputs": [
    {
     "data": {
      "image/png": "[encoded data removed]",
      "text/plain": [
       "<Figure size 360x252 with 1 Axes>"
      ]
     },
     "metadata": {
      "needs_background": "light"
     },
     "output_type": "display_data"
    }
   ],
   "source": [
    "f, ax = plt.subplots(figsize=(5,3.5))\n",
    "sns.barplot(data=dfm, x='model name', y='value', hue='model evidence', ax=ax)\n",
    "plt.xticks(rotation=90)\n",
    "plt.title('Practice sessions model comparison')\n",
    "plt.savefig('./figs/practice_freq.png', bbox_inches='tight')"
   ]
  },
  {
   "cell_type": "code",
   "execution_count": null,
   "metadata": {},
   "outputs": [],
   "source": []
  },
  {
   "cell_type": "code",
   "execution_count": 339,
   "metadata": {},
   "outputs": [],
   "source": [
    "df = pd.read_csv('./local_output/subject_fmri.csv')"
   ]
  },
  {
   "cell_type": "code",
   "execution_count": 346,
   "metadata": {},
   "outputs": [
    {
     "data": {
      "text/plain": [
       "io_jump_freq     23\n",
       "io_jump_trans    12\n",
       "dtype: int64"
      ]
     },
     "execution_count": 346,
     "metadata": {},
     "output_type": "execute_result"
    }
   ],
   "source": [
    "df.idxmax(axis=1).value_counts()"
   ]
  },
  {
   "cell_type": "code",
   "execution_count": 327,
   "metadata": {},
   "outputs": [],
   "source": [
    "df.columns = df.columns.str.replace('_', ' ')\n",
    "df.columns = df.columns.str.replace('prob', 'probability')\n",
    "# df.replace('_', ' ', regex=True, inplace=True)\n",
    "df.columns = df.columns.str.replace('io', 'IO')\n",
    "df.columns = df.columns.str.replace('rw', 'RL')"
   ]
  },
  {
   "cell_type": "code",
   "execution_count": 328,
   "metadata": {},
   "outputs": [],
   "source": [
    "dfr = df[df.mean().sort_values(ascending=False).index]"
   ]
  },
  {
   "cell_type": "code",
   "execution_count": 329,
   "metadata": {},
   "outputs": [
    {
     "data": {
      "image/png": "[encoded data removed]",
      "text/plain": [
       "<Figure size 360x252 with 2 Axes>"
      ]
     },
     "metadata": {
      "needs_background": "light"
     },
     "output_type": "display_data"
    }
   ],
   "source": [
    "f, ax = plt.subplots(figsize=(5,3.5))\n",
    "sns.heatmap(dfr, cmap = 'viridis', ax=ax)\n",
    "plt.ylabel('subject model evidence')\n",
    "ax.set_yticks(ax.get_yticks()[::4])\n",
    "plt.savefig('./figs/fmri_subject.png', bbox_inches='tight')"
   ]
  },
  {
   "cell_type": "code",
   "execution_count": 347,
   "metadata": {},
   "outputs": [],
   "source": [
    "df = pd.read_csv('./local_output/subject_practice.csv')"
   ]
  },
  {
   "cell_type": "code",
   "execution_count": 348,
   "metadata": {},
   "outputs": [
    {
     "data": {
      "text/plain": [
       "io_jump_freq     23\n",
       "rw                6\n",
       "io_jump_trans     4\n",
       "dtype: int64"
      ]
     },
     "execution_count": 348,
     "metadata": {},
     "output_type": "execute_result"
    }
   ],
   "source": [
    "df.idxmax(axis=1).value_counts()"
   ]
  },
  {
   "cell_type": "code",
   "execution_count": 321,
   "metadata": {},
   "outputs": [],
   "source": [
    "df.columns = df.columns.str.replace('_', ' ')\n",
    "df.columns = df.columns.str.replace('prob', 'probability')\n",
    "# df.replace('_', ' ', regex=True, inplace=True)\n",
    "df.columns = df.columns.str.replace('io', 'IO')\n",
    "df.columns = df.columns.str.replace('rw', 'RL')"
   ]
  },
  {
   "cell_type": "code",
   "execution_count": 322,
   "metadata": {},
   "outputs": [],
   "source": [
    "df_tmp = pd.DataFrame([[0,0,0,0,0,0],\n",
    "                       [0,0,0,0,0,0]])\n",
    "df_tmp.columns = df.columns"
   ]
  },
  {
   "cell_type": "code",
   "execution_count": 323,
   "metadata": {},
   "outputs": [],
   "source": [
    "dfn = pd.concat([df_tmp,df], axis=0).reset_index().drop(columns='index')"
   ]
  },
  {
   "cell_type": "code",
   "execution_count": 324,
   "metadata": {},
   "outputs": [],
   "source": [
    "dfr = dfn[dfn.mean().sort_values(ascending=False).index]"
   ]
  },
  {
   "cell_type": "code",
   "execution_count": 325,
   "metadata": {},
   "outputs": [
    {
     "data": {
      "image/png": "[encoded data removed]",
      "text/plain": [
       "<Figure size 360x252 with 2 Axes>"
      ]
     },
     "metadata": {
      "needs_background": "light"
     },
     "output_type": "display_data"
    }
   ],
   "source": [
    "f, ax = plt.subplots(figsize=(5,3.5))\n",
    "sns.heatmap(dfr, cmap = 'viridis', ax=ax)\n",
    "plt.ylabel('subject model evidence')\n",
    "ax.set_yticks(ax.get_yticks()[::4])\n",
    "plt.savefig('./figs/practice_subject.png', bbox_inches='tight')"
   ]
  },
  {
   "cell_type": "code",
   "execution_count": null,
   "metadata": {},
   "outputs": [],
   "source": []
  }
 ],
 "metadata": {
  "kernelspec": {
   "display_name": "Python 3",
   "language": "python",
   "name": "python3"
  },
  "language_info": {
   "codemirror_mode": {
    "name": "ipython",
    "version": 3
   },
   "file_extension": ".py",
   "mimetype": "text/x-python",
   "name": "python",
   "nbconvert_exporter": "python",
   "pygments_lexer": "ipython3",
   "version": "3.8.8"
  }
 },
 "nbformat": 4,
 "nbformat_minor": 4
}
